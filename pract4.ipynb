{
  "nbformat": 4,
  "nbformat_minor": 0,
  "metadata": {
    "colab": {
      "provenance": [],
      "authorship_tag": "ABX9TyOEdMC/kkmQMsXEV7qeAMXK",
      "include_colab_link": true
    },
    "kernelspec": {
      "name": "python3",
      "display_name": "Python 3"
    },
    "language_info": {
      "name": "python"
    }
  },
  "cells": [
    {
      "cell_type": "markdown",
      "metadata": {
        "id": "view-in-github",
        "colab_type": "text"
      },
      "source": [
        "<a href=\"https://colab.research.google.com/github/kpracheta/MachineLearning/blob/main/pract4.ipynb\" target=\"_parent\"><img src=\"https://colab.research.google.com/assets/colab-badge.svg\" alt=\"Open In Colab\"/></a>"
      ]
    },
    {
      "cell_type": "code",
      "execution_count": null,
      "metadata": {
        "colab": {
          "base_uri": "https://localhost:8080/"
        },
        "id": "zDbERWbY6gVc",
        "outputId": "0843c83f-f539-4b5b-c427-e70158c3583d"
      },
      "outputs": [
        {
          "output_type": "stream",
          "name": "stdout",
          "text": [
            "Requirement already satisfied: tensorflow in /usr/local/lib/python3.10/dist-packages (2.14.0)\n",
            "Requirement already satisfied: absl-py>=1.0.0 in /usr/local/lib/python3.10/dist-packages (from tensorflow) (1.4.0)\n",
            "Requirement already satisfied: astunparse>=1.6.0 in /usr/local/lib/python3.10/dist-packages (from tensorflow) (1.6.3)\n",
            "Requirement already satisfied: flatbuffers>=23.5.26 in /usr/local/lib/python3.10/dist-packages (from tensorflow) (23.5.26)\n",
            "Requirement already satisfied: gast!=0.5.0,!=0.5.1,!=0.5.2,>=0.2.1 in /usr/local/lib/python3.10/dist-packages (from tensorflow) (0.5.4)\n",
            "Requirement already satisfied: google-pasta>=0.1.1 in /usr/local/lib/python3.10/dist-packages (from tensorflow) (0.2.0)\n",
            "Requirement already satisfied: h5py>=2.9.0 in /usr/local/lib/python3.10/dist-packages (from tensorflow) (3.9.0)\n",
            "Requirement already satisfied: libclang>=13.0.0 in /usr/local/lib/python3.10/dist-packages (from tensorflow) (16.0.6)\n",
            "Requirement already satisfied: ml-dtypes==0.2.0 in /usr/local/lib/python3.10/dist-packages (from tensorflow) (0.2.0)\n",
            "Requirement already satisfied: numpy>=1.23.5 in /usr/local/lib/python3.10/dist-packages (from tensorflow) (1.23.5)\n",
            "Requirement already satisfied: opt-einsum>=2.3.2 in /usr/local/lib/python3.10/dist-packages (from tensorflow) (3.3.0)\n",
            "Requirement already satisfied: packaging in /usr/local/lib/python3.10/dist-packages (from tensorflow) (23.2)\n",
            "Requirement already satisfied: protobuf!=4.21.0,!=4.21.1,!=4.21.2,!=4.21.3,!=4.21.4,!=4.21.5,<5.0.0dev,>=3.20.3 in /usr/local/lib/python3.10/dist-packages (from tensorflow) (3.20.3)\n",
            "Requirement already satisfied: setuptools in /usr/local/lib/python3.10/dist-packages (from tensorflow) (67.7.2)\n",
            "Requirement already satisfied: six>=1.12.0 in /usr/local/lib/python3.10/dist-packages (from tensorflow) (1.16.0)\n",
            "Requirement already satisfied: termcolor>=1.1.0 in /usr/local/lib/python3.10/dist-packages (from tensorflow) (2.3.0)\n",
            "Requirement already satisfied: typing-extensions>=3.6.6 in /usr/local/lib/python3.10/dist-packages (from tensorflow) (4.5.0)\n",
            "Requirement already satisfied: wrapt<1.15,>=1.11.0 in /usr/local/lib/python3.10/dist-packages (from tensorflow) (1.14.1)\n",
            "Requirement already satisfied: tensorflow-io-gcs-filesystem>=0.23.1 in /usr/local/lib/python3.10/dist-packages (from tensorflow) (0.34.0)\n",
            "Requirement already satisfied: grpcio<2.0,>=1.24.3 in /usr/local/lib/python3.10/dist-packages (from tensorflow) (1.59.0)\n",
            "Requirement already satisfied: tensorboard<2.15,>=2.14 in /usr/local/lib/python3.10/dist-packages (from tensorflow) (2.14.1)\n",
            "Requirement already satisfied: tensorflow-estimator<2.15,>=2.14.0 in /usr/local/lib/python3.10/dist-packages (from tensorflow) (2.14.0)\n",
            "Requirement already satisfied: keras<2.15,>=2.14.0 in /usr/local/lib/python3.10/dist-packages (from tensorflow) (2.14.0)\n",
            "Requirement already satisfied: wheel<1.0,>=0.23.0 in /usr/local/lib/python3.10/dist-packages (from astunparse>=1.6.0->tensorflow) (0.41.2)\n",
            "Requirement already satisfied: google-auth<3,>=1.6.3 in /usr/local/lib/python3.10/dist-packages (from tensorboard<2.15,>=2.14->tensorflow) (2.17.3)\n",
            "Requirement already satisfied: google-auth-oauthlib<1.1,>=0.5 in /usr/local/lib/python3.10/dist-packages (from tensorboard<2.15,>=2.14->tensorflow) (1.0.0)\n",
            "Requirement already satisfied: markdown>=2.6.8 in /usr/local/lib/python3.10/dist-packages (from tensorboard<2.15,>=2.14->tensorflow) (3.5)\n",
            "Requirement already satisfied: requests<3,>=2.21.0 in /usr/local/lib/python3.10/dist-packages (from tensorboard<2.15,>=2.14->tensorflow) (2.31.0)\n",
            "Requirement already satisfied: tensorboard-data-server<0.8.0,>=0.7.0 in /usr/local/lib/python3.10/dist-packages (from tensorboard<2.15,>=2.14->tensorflow) (0.7.2)\n",
            "Requirement already satisfied: werkzeug>=1.0.1 in /usr/local/lib/python3.10/dist-packages (from tensorboard<2.15,>=2.14->tensorflow) (3.0.1)\n",
            "Requirement already satisfied: cachetools<6.0,>=2.0.0 in /usr/local/lib/python3.10/dist-packages (from google-auth<3,>=1.6.3->tensorboard<2.15,>=2.14->tensorflow) (5.3.2)\n",
            "Requirement already satisfied: pyasn1-modules>=0.2.1 in /usr/local/lib/python3.10/dist-packages (from google-auth<3,>=1.6.3->tensorboard<2.15,>=2.14->tensorflow) (0.3.0)\n",
            "Requirement already satisfied: rsa<5,>=3.1.4 in /usr/local/lib/python3.10/dist-packages (from google-auth<3,>=1.6.3->tensorboard<2.15,>=2.14->tensorflow) (4.9)\n",
            "Requirement already satisfied: requests-oauthlib>=0.7.0 in /usr/local/lib/python3.10/dist-packages (from google-auth-oauthlib<1.1,>=0.5->tensorboard<2.15,>=2.14->tensorflow) (1.3.1)\n",
            "Requirement already satisfied: charset-normalizer<4,>=2 in /usr/local/lib/python3.10/dist-packages (from requests<3,>=2.21.0->tensorboard<2.15,>=2.14->tensorflow) (3.3.1)\n",
            "Requirement already satisfied: idna<4,>=2.5 in /usr/local/lib/python3.10/dist-packages (from requests<3,>=2.21.0->tensorboard<2.15,>=2.14->tensorflow) (3.4)\n",
            "Requirement already satisfied: urllib3<3,>=1.21.1 in /usr/local/lib/python3.10/dist-packages (from requests<3,>=2.21.0->tensorboard<2.15,>=2.14->tensorflow) (2.0.7)\n",
            "Requirement already satisfied: certifi>=2017.4.17 in /usr/local/lib/python3.10/dist-packages (from requests<3,>=2.21.0->tensorboard<2.15,>=2.14->tensorflow) (2023.7.22)\n",
            "Requirement already satisfied: MarkupSafe>=2.1.1 in /usr/local/lib/python3.10/dist-packages (from werkzeug>=1.0.1->tensorboard<2.15,>=2.14->tensorflow) (2.1.3)\n",
            "Requirement already satisfied: pyasn1<0.6.0,>=0.4.6 in /usr/local/lib/python3.10/dist-packages (from pyasn1-modules>=0.2.1->google-auth<3,>=1.6.3->tensorboard<2.15,>=2.14->tensorflow) (0.5.0)\n",
            "Requirement already satisfied: oauthlib>=3.0.0 in /usr/local/lib/python3.10/dist-packages (from requests-oauthlib>=0.7.0->google-auth-oauthlib<1.1,>=0.5->tensorboard<2.15,>=2.14->tensorflow) (3.2.2)\n"
          ]
        }
      ],
      "source": [
        "pip install tensorflow"
      ]
    },
    {
      "cell_type": "code",
      "source": [
        "import pandas as pd\n",
        "from sklearn.model_selection import train_test_split\n",
        "from sklearn.preprocessing import StandardScaler"
      ],
      "metadata": {
        "id": "S4H7rYcz6tOC"
      },
      "execution_count": null,
      "outputs": []
    },
    {
      "cell_type": "markdown",
      "source": [
        "Load and Preprocess Data"
      ],
      "metadata": {
        "id": "6zxm4viQHwqL"
      }
    },
    {
      "cell_type": "code",
      "source": [
        "data = pd.read_csv('/content/Salary_dataset.csv')\n",
        "\n",
        "X = data.drop('YearsExperience', axis=1)\n",
        "Y = data['Salary']\n",
        "\n",
        "scaler = StandardScaler()\n",
        "X = scaler.fit_transform(X)\n",
        "\n",
        "X_train, X_test, Y_train, Y_test = train_test_split(X, Y, test_size=0.2, random_state=42)"
      ],
      "metadata": {
        "id": "2sWogBuX8hie"
      },
      "execution_count": null,
      "outputs": []
    },
    {
      "cell_type": "markdown",
      "source": [
        "Regression using TensorFlow"
      ],
      "metadata": {
        "id": "0crQpneZH4Qp"
      }
    },
    {
      "cell_type": "code",
      "source": [
        "import tensorflow as tf\n",
        "\n",
        "model = tf.keras.Sequential([\n",
        "    tf.keras.layers.Dense(64, activation='relu', input_shape=(X_train.shape[1],)),\n",
        "    tf.keras.layers.Dense(32, activation='relu'),\n",
        "    tf.keras.layers.Dense(1)  # Output layer for regression\n",
        "])\n",
        "\n",
        "\n",
        "model.compile(optimizer='adam', loss='mean_squared_error')\n",
        "\n",
        "\n",
        "model.fit(X_train, Y_train, epochs=100, batch_size=32, validation_data=(X_test, Y_test))\n",
        "\n",
        "\n",
        "loss = model.evaluate(X_test, Y_test)\n",
        "print(\"Mean Squared Error on test data:\", loss)\n",
        "\n",
        "\n",
        "Y_pred = model.predict(X_test)\n",
        "print(\"Predicted values:\", Y_pred)"
      ],
      "metadata": {
        "colab": {
          "base_uri": "https://localhost:8080/"
        },
        "id": "4IxGHmorHby5",
        "outputId": "12762e35-1416-43fc-d248-0a3c162f45c5"
      },
      "execution_count": null,
      "outputs": [
        {
          "output_type": "stream",
          "name": "stdout",
          "text": [
            "Epoch 1/100\n",
            "1/1 [==============================] - 2s 2s/step - loss: 6271258624.0000 - val_loss: 7430649344.0000\n",
            "Epoch 2/100\n",
            "1/1 [==============================] - 0s 98ms/step - loss: 6271252992.0000 - val_loss: 7430643200.0000\n",
            "Epoch 3/100\n",
            "1/1 [==============================] - 0s 68ms/step - loss: 6271247872.0000 - val_loss: 7430638080.0000\n",
            "Epoch 4/100\n",
            "1/1 [==============================] - 0s 101ms/step - loss: 6271242240.0000 - val_loss: 7430633472.0000\n",
            "Epoch 5/100\n",
            "1/1 [==============================] - 0s 116ms/step - loss: 6271236608.0000 - val_loss: 7430627328.0000\n",
            "Epoch 6/100\n",
            "1/1 [==============================] - 0s 106ms/step - loss: 6271232000.0000 - val_loss: 7430621696.0000\n",
            "Epoch 7/100\n",
            "1/1 [==============================] - 0s 102ms/step - loss: 6271226368.0000 - val_loss: 7430617600.0000\n",
            "Epoch 8/100\n",
            "1/1 [==============================] - 0s 107ms/step - loss: 6271221760.0000 - val_loss: 7430612480.0000\n",
            "Epoch 9/100\n",
            "1/1 [==============================] - 0s 79ms/step - loss: 6271216128.0000 - val_loss: 7430608384.0000\n",
            "Epoch 10/100\n",
            "1/1 [==============================] - 0s 137ms/step - loss: 6271212032.0000 - val_loss: 7430604288.0000\n",
            "Epoch 11/100\n",
            "1/1 [==============================] - 0s 142ms/step - loss: 6271207936.0000 - val_loss: 7430599168.0000\n",
            "Epoch 12/100\n",
            "1/1 [==============================] - 0s 135ms/step - loss: 6271202816.0000 - val_loss: 7430594560.0000\n",
            "Epoch 13/100\n",
            "1/1 [==============================] - 0s 97ms/step - loss: 6271198720.0000 - val_loss: 7430590464.0000\n",
            "Epoch 14/100\n",
            "1/1 [==============================] - 0s 117ms/step - loss: 6271194624.0000 - val_loss: 7430586368.0000\n",
            "Epoch 15/100\n",
            "1/1 [==============================] - 0s 109ms/step - loss: 6271190528.0000 - val_loss: 7430582784.0000\n",
            "Epoch 16/100\n",
            "1/1 [==============================] - 0s 93ms/step - loss: 6271186432.0000 - val_loss: 7430578688.0000\n",
            "Epoch 17/100\n",
            "1/1 [==============================] - 0s 86ms/step - loss: 6271182336.0000 - val_loss: 7430574592.0000\n",
            "Epoch 18/100\n",
            "1/1 [==============================] - 0s 99ms/step - loss: 6271178240.0000 - val_loss: 7430569984.0000\n",
            "Epoch 19/100\n",
            "1/1 [==============================] - 0s 147ms/step - loss: 6271174144.0000 - val_loss: 7430566400.0000\n",
            "Epoch 20/100\n",
            "1/1 [==============================] - 0s 168ms/step - loss: 6271170048.0000 - val_loss: 7430562304.0000\n",
            "Epoch 21/100\n",
            "1/1 [==============================] - 0s 201ms/step - loss: 6271165952.0000 - val_loss: 7430558208.0000\n",
            "Epoch 22/100\n",
            "1/1 [==============================] - 0s 154ms/step - loss: 6271161856.0000 - val_loss: 7430555136.0000\n",
            "Epoch 23/100\n",
            "1/1 [==============================] - 0s 103ms/step - loss: 6271158272.0000 - val_loss: 7430550016.0000\n",
            "Epoch 24/100\n",
            "1/1 [==============================] - 0s 136ms/step - loss: 6271154176.0000 - val_loss: 7430546944.0000\n",
            "Epoch 25/100\n",
            "1/1 [==============================] - 0s 57ms/step - loss: 6271150080.0000 - val_loss: 7430541824.0000\n",
            "Epoch 26/100\n",
            "1/1 [==============================] - 0s 224ms/step - loss: 6271145984.0000 - val_loss: 7430537728.0000\n",
            "Epoch 27/100\n",
            "1/1 [==============================] - 0s 229ms/step - loss: 6271141888.0000 - val_loss: 7430533632.0000\n",
            "Epoch 28/100\n",
            "1/1 [==============================] - 0s 238ms/step - loss: 6271137280.0000 - val_loss: 7430528512.0000\n",
            "Epoch 29/100\n",
            "1/1 [==============================] - 0s 197ms/step - loss: 6271133184.0000 - val_loss: 7430524928.0000\n",
            "Epoch 30/100\n",
            "1/1 [==============================] - 0s 59ms/step - loss: 6271129088.0000 - val_loss: 7430520320.0000\n",
            "Epoch 31/100\n",
            "1/1 [==============================] - 0s 72ms/step - loss: 6271123968.0000 - val_loss: 7430514176.0000\n",
            "Epoch 32/100\n",
            "1/1 [==============================] - 0s 45ms/step - loss: 6271119360.0000 - val_loss: 7430509056.0000\n",
            "Epoch 33/100\n",
            "1/1 [==============================] - 0s 71ms/step - loss: 6271113728.0000 - val_loss: 7430503936.0000\n",
            "Epoch 34/100\n",
            "1/1 [==============================] - 0s 44ms/step - loss: 6271108608.0000 - val_loss: 7430498816.0000\n",
            "Epoch 35/100\n",
            "1/1 [==============================] - 0s 43ms/step - loss: 6271102976.0000 - val_loss: 7430493696.0000\n",
            "Epoch 36/100\n",
            "1/1 [==============================] - 0s 45ms/step - loss: 6271097344.0000 - val_loss: 7430487552.0000\n",
            "Epoch 37/100\n",
            "1/1 [==============================] - 0s 43ms/step - loss: 6271091200.0000 - val_loss: 7430480384.0000\n",
            "Epoch 38/100\n",
            "1/1 [==============================] - 0s 44ms/step - loss: 6271085056.0000 - val_loss: 7430473728.0000\n",
            "Epoch 39/100\n",
            "1/1 [==============================] - 0s 42ms/step - loss: 6271078400.0000 - val_loss: 7430467072.0000\n",
            "Epoch 40/100\n",
            "1/1 [==============================] - 0s 43ms/step - loss: 6271071744.0000 - val_loss: 7430459392.0000\n",
            "Epoch 41/100\n",
            "1/1 [==============================] - 0s 45ms/step - loss: 6271064576.0000 - val_loss: 7430452736.0000\n",
            "Epoch 42/100\n",
            "1/1 [==============================] - 0s 68ms/step - loss: 6271057920.0000 - val_loss: 7430445568.0000\n",
            "Epoch 43/100\n",
            "1/1 [==============================] - 0s 42ms/step - loss: 6271050240.0000 - val_loss: 7430437376.0000\n",
            "Epoch 44/100\n",
            "1/1 [==============================] - 0s 44ms/step - loss: 6271043072.0000 - val_loss: 7430430208.0000\n",
            "Epoch 45/100\n",
            "1/1 [==============================] - 0s 44ms/step - loss: 6271034880.0000 - val_loss: 7430420992.0000\n",
            "Epoch 46/100\n",
            "1/1 [==============================] - 0s 44ms/step - loss: 6271026688.0000 - val_loss: 7430412288.0000\n",
            "Epoch 47/100\n",
            "1/1 [==============================] - 0s 83ms/step - loss: 6271017472.0000 - val_loss: 7430404096.0000\n",
            "Epoch 48/100\n",
            "1/1 [==============================] - 0s 60ms/step - loss: 6271008768.0000 - val_loss: 7430395392.0000\n",
            "Epoch 49/100\n",
            "1/1 [==============================] - 0s 44ms/step - loss: 6270999040.0000 - val_loss: 7430385152.0000\n",
            "Epoch 50/100\n",
            "1/1 [==============================] - 0s 47ms/step - loss: 6270989824.0000 - val_loss: 7430373888.0000\n",
            "Epoch 51/100\n",
            "1/1 [==============================] - 0s 61ms/step - loss: 6270980096.0000 - val_loss: 7430363648.0000\n",
            "Epoch 52/100\n",
            "1/1 [==============================] - 0s 46ms/step - loss: 6270969856.0000 - val_loss: 7430353408.0000\n",
            "Epoch 53/100\n",
            "1/1 [==============================] - 0s 62ms/step - loss: 6270959104.0000 - val_loss: 7430342144.0000\n",
            "Epoch 54/100\n",
            "1/1 [==============================] - 0s 70ms/step - loss: 6270947328.0000 - val_loss: 7430330368.0000\n",
            "Epoch 55/100\n",
            "1/1 [==============================] - 0s 43ms/step - loss: 6270936576.0000 - val_loss: 7430318080.0000\n",
            "Epoch 56/100\n",
            "1/1 [==============================] - 0s 44ms/step - loss: 6270924800.0000 - val_loss: 7430305792.0000\n",
            "Epoch 57/100\n",
            "1/1 [==============================] - 0s 67ms/step - loss: 6270913024.0000 - val_loss: 7430292992.0000\n",
            "Epoch 58/100\n",
            "1/1 [==============================] - 0s 61ms/step - loss: 6270900736.0000 - val_loss: 7430280704.0000\n",
            "Epoch 59/100\n",
            "1/1 [==============================] - 0s 49ms/step - loss: 6270887936.0000 - val_loss: 7430266880.0000\n",
            "Epoch 60/100\n",
            "1/1 [==============================] - 0s 51ms/step - loss: 6270875136.0000 - val_loss: 7430253056.0000\n",
            "Epoch 61/100\n",
            "1/1 [==============================] - 0s 39ms/step - loss: 6270861312.0000 - val_loss: 7430238208.0000\n",
            "Epoch 62/100\n",
            "1/1 [==============================] - 0s 34ms/step - loss: 6270846464.0000 - val_loss: 7430222336.0000\n",
            "Epoch 63/100\n",
            "1/1 [==============================] - 0s 36ms/step - loss: 6270832128.0000 - val_loss: 7430206976.0000\n",
            "Epoch 64/100\n",
            "1/1 [==============================] - 0s 33ms/step - loss: 6270816768.0000 - val_loss: 7430190592.0000\n",
            "Epoch 65/100\n",
            "1/1 [==============================] - 0s 35ms/step - loss: 6270801408.0000 - val_loss: 7430174208.0000\n",
            "Epoch 66/100\n",
            "1/1 [==============================] - 0s 63ms/step - loss: 6270785024.0000 - val_loss: 7430156288.0000\n",
            "Epoch 67/100\n",
            "1/1 [==============================] - 0s 35ms/step - loss: 6270767104.0000 - val_loss: 7430137856.0000\n",
            "Epoch 68/100\n",
            "1/1 [==============================] - 0s 34ms/step - loss: 6270749184.0000 - val_loss: 7430118912.0000\n",
            "Epoch 69/100\n",
            "1/1 [==============================] - 0s 33ms/step - loss: 6270731776.0000 - val_loss: 7430099456.0000\n",
            "Epoch 70/100\n",
            "1/1 [==============================] - 0s 35ms/step - loss: 6270712320.0000 - val_loss: 7430078976.0000\n",
            "Epoch 71/100\n",
            "1/1 [==============================] - 0s 37ms/step - loss: 6270693376.0000 - val_loss: 7430059520.0000\n",
            "Epoch 72/100\n",
            "1/1 [==============================] - 0s 34ms/step - loss: 6270672896.0000 - val_loss: 7430038016.0000\n",
            "Epoch 73/100\n",
            "1/1 [==============================] - 0s 32ms/step - loss: 6270652416.0000 - val_loss: 7430015488.0000\n",
            "Epoch 74/100\n",
            "1/1 [==============================] - 0s 37ms/step - loss: 6270630400.0000 - val_loss: 7429994496.0000\n",
            "Epoch 75/100\n",
            "1/1 [==============================] - 0s 35ms/step - loss: 6270608896.0000 - val_loss: 7429971456.0000\n",
            "Epoch 76/100\n",
            "1/1 [==============================] - 0s 33ms/step - loss: 6270586880.0000 - val_loss: 7429947392.0000\n",
            "Epoch 77/100\n",
            "1/1 [==============================] - 0s 51ms/step - loss: 6270563840.0000 - val_loss: 7429923328.0000\n",
            "Epoch 78/100\n",
            "1/1 [==============================] - 0s 37ms/step - loss: 6270539776.0000 - val_loss: 7429898240.0000\n",
            "Epoch 79/100\n",
            "1/1 [==============================] - 0s 33ms/step - loss: 6270515712.0000 - val_loss: 7429873152.0000\n",
            "Epoch 80/100\n",
            "1/1 [==============================] - 0s 34ms/step - loss: 6270490624.0000 - val_loss: 7429845504.0000\n",
            "Epoch 81/100\n",
            "1/1 [==============================] - 0s 34ms/step - loss: 6270465536.0000 - val_loss: 7429819904.0000\n",
            "Epoch 82/100\n",
            "1/1 [==============================] - 0s 35ms/step - loss: 6270439424.0000 - val_loss: 7429791744.0000\n",
            "Epoch 83/100\n",
            "1/1 [==============================] - 0s 35ms/step - loss: 6270412288.0000 - val_loss: 7429763584.0000\n",
            "Epoch 84/100\n",
            "1/1 [==============================] - 0s 35ms/step - loss: 6270384640.0000 - val_loss: 7429733888.0000\n",
            "Epoch 85/100\n",
            "1/1 [==============================] - 0s 33ms/step - loss: 6270355968.0000 - val_loss: 7429705216.0000\n",
            "Epoch 86/100\n",
            "1/1 [==============================] - 0s 37ms/step - loss: 6270328320.0000 - val_loss: 7429675008.0000\n",
            "Epoch 87/100\n",
            "1/1 [==============================] - 0s 35ms/step - loss: 6270297600.0000 - val_loss: 7429643776.0000\n",
            "Epoch 88/100\n",
            "1/1 [==============================] - 0s 36ms/step - loss: 6270267392.0000 - val_loss: 7429611008.0000\n",
            "Epoch 89/100\n",
            "1/1 [==============================] - 0s 35ms/step - loss: 6270236160.0000 - val_loss: 7429578752.0000\n",
            "Epoch 90/100\n",
            "1/1 [==============================] - 0s 34ms/step - loss: 6270204416.0000 - val_loss: 7429545472.0000\n",
            "Epoch 91/100\n",
            "1/1 [==============================] - 0s 35ms/step - loss: 6270171648.0000 - val_loss: 7429509632.0000\n",
            "Epoch 92/100\n",
            "1/1 [==============================] - 0s 39ms/step - loss: 6270138368.0000 - val_loss: 7429475840.0000\n",
            "Epoch 93/100\n",
            "1/1 [==============================] - 0s 39ms/step - loss: 6270104064.0000 - val_loss: 7429439488.0000\n",
            "Epoch 94/100\n",
            "1/1 [==============================] - 0s 38ms/step - loss: 6270069248.0000 - val_loss: 7429403136.0000\n",
            "Epoch 95/100\n",
            "1/1 [==============================] - 0s 33ms/step - loss: 6270033408.0000 - val_loss: 7429365248.0000\n",
            "Epoch 96/100\n",
            "1/1 [==============================] - 0s 33ms/step - loss: 6269997056.0000 - val_loss: 7429326848.0000\n",
            "Epoch 97/100\n",
            "1/1 [==============================] - 0s 34ms/step - loss: 6269960192.0000 - val_loss: 7429287424.0000\n",
            "Epoch 98/100\n",
            "1/1 [==============================] - 0s 34ms/step - loss: 6269921280.0000 - val_loss: 7429246976.0000\n",
            "Epoch 99/100\n",
            "1/1 [==============================] - 0s 36ms/step - loss: 6269882368.0000 - val_loss: 7429206528.0000\n",
            "Epoch 100/100\n",
            "1/1 [==============================] - 0s 34ms/step - loss: 6269841920.0000 - val_loss: 7429163520.0000\n",
            "1/1 [==============================] - 0s 23ms/step - loss: 7429163520.0000\n",
            "Mean Squared Error on test data: 7429163520.0\n",
            "1/1 [==============================] - 0s 95ms/step\n",
            "Predicted values: [[13.535426 ]\n",
            " [ 4.9489512]\n",
            " [11.549074 ]\n",
            " [ 5.3266516]\n",
            " [ 5.974708 ]\n",
            " [ 6.5682464]]\n"
          ]
        }
      ]
    },
    {
      "cell_type": "markdown",
      "source": [
        "k-NN using TensorFlow"
      ],
      "metadata": {
        "id": "AMcq2IEcH_DX"
      }
    },
    {
      "cell_type": "code",
      "source": [
        "from sklearn.neighbors import KNeighborsRegressor\n",
        "\n",
        "knn = KNeighborsRegressor(n_neighbors=5)\n",
        "knn.fit(X_train, Y_train)\n",
        "\n",
        "Y_pred = knn.predict(X_test)\n",
        "\n",
        "\n",
        "Y_pred = knn.predict(X_test)\n",
        "\n",
        "\n",
        "print(\"Predicted values:\", Y_pred)"
      ],
      "metadata": {
        "colab": {
          "base_uri": "https://localhost:8080/"
        },
        "id": "uIelThQ6HmJL",
        "outputId": "6c658073-1b21-434a-ed01-87e9bd26f388"
      },
      "execution_count": null,
      "outputs": [
        {
          "output_type": "stream",
          "name": "stdout",
          "text": [
            "Predicted values: [115250.   60880.2 106312.4  86269.6  58050.8  58113.8]\n"
          ]
        }
      ]
    },
    {
      "cell_type": "markdown",
      "source": [
        "k-Means using TensorFlow"
      ],
      "metadata": {
        "id": "zdJGeb3JIAfd"
      }
    },
    {
      "cell_type": "code",
      "source": [
        "import tensorflow as tf\n",
        "from tensorflow import keras\n",
        "from sklearn.cluster import KMeans\n",
        "\n",
        "num_clusters = 3\n",
        "\n",
        "kmeans = KMeans(n_clusters=num_clusters, random_state=0)\n",
        "\n",
        "kmeans.fit(X)\n",
        "\n",
        "cluster_assignments = kmeans.predict(X)\n",
        "\n",
        "print(\"Cluster assignments:\", cluster_assignments)\n"
      ],
      "metadata": {
        "colab": {
          "base_uri": "https://localhost:8080/"
        },
        "id": "d8Rb0q3bHqOo",
        "outputId": "12929be9-6427-473b-deef-530b0b56ceb5"
      },
      "execution_count": null,
      "outputs": [
        {
          "output_type": "stream",
          "name": "stderr",
          "text": [
            "/usr/local/lib/python3.10/dist-packages/sklearn/cluster/_kmeans.py:870: FutureWarning: The default value of `n_init` will change from 10 to 'auto' in 1.4. Set the value of `n_init` explicitly to suppress the warning\n",
            "  warnings.warn(\n"
          ]
        },
        {
          "output_type": "stream",
          "name": "stdout",
          "text": [
            "Cluster assignments: [2 2 2 2 2 2 2 2 0 0 0 0 0 0 0 0 0 0 0 1 1 1 1 1 1 1 1 1 1 1]\n"
          ]
        }
      ]
    }
  ]
}