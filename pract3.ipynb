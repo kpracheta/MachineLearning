{
  "nbformat": 4,
  "nbformat_minor": 0,
  "metadata": {
    "colab": {
      "provenance": [],
      "authorship_tag": "ABX9TyNYwRbM7z5gK1D98fYhgS6w",
      "include_colab_link": true
    },
    "kernelspec": {
      "name": "python3",
      "display_name": "Python 3"
    },
    "language_info": {
      "name": "python"
    }
  },
  "cells": [
    {
      "cell_type": "markdown",
      "metadata": {
        "id": "view-in-github",
        "colab_type": "text"
      },
      "source": [
        "<a href=\"https://colab.research.google.com/github/kpracheta/MachineLearning/blob/main/pract3.ipynb\" target=\"_parent\"><img src=\"https://colab.research.google.com/assets/colab-badge.svg\" alt=\"Open In Colab\"/></a>"
      ]
    },
    {
      "cell_type": "code",
      "execution_count": null,
      "metadata": {
        "id": "VfuSJEqIDXmA"
      },
      "outputs": [],
      "source": [
        "import tensorflow as tf"
      ]
    },
    {
      "cell_type": "code",
      "source": [
        "v = tf.constant(\"Hello World!\")\n",
        "tf.print(v)"
      ],
      "metadata": {
        "colab": {
          "base_uri": "https://localhost:8080/"
        },
        "id": "FEYrgx6yDhyl",
        "outputId": "196a0af0-09df-4f0d-84da-ec037a75d633"
      },
      "execution_count": null,
      "outputs": [
        {
          "output_type": "stream",
          "name": "stdout",
          "text": [
            "Hello World!\n"
          ]
        }
      ]
    },
    {
      "cell_type": "code",
      "source": [
        "x = tf.constant(1, tf.int32)\n",
        "zeros = tf.zeros([2, 3], tf.int32)\n",
        "ones = tf.ones([2, 3], tf.int32)\n",
        "y = x*(zeros + ones + ones)\n",
        "tf.print(y)"
      ],
      "metadata": {
        "colab": {
          "base_uri": "https://localhost:8080/"
        },
        "id": "wwt78fpbDqLj",
        "outputId": "01aa9bae-8f26-4846-ca27-4f5a65c24dbf"
      },
      "execution_count": null,
      "outputs": [
        {
          "output_type": "stream",
          "name": "stdout",
          "text": [
            "[[2 2 2]\n",
            " [2 2 2]]\n"
          ]
        }
      ]
    },
    {
      "cell_type": "code",
      "source": [
        "W = tf.Variable(tf.random.normal([2, 2], stddev=0.1), name = \"W\")\n",
        "b = tf.Variable(tf.zeros(shape=(2)), name=\"b\")"
      ],
      "metadata": {
        "id": "1DRcJ8uUEiLR"
      },
      "execution_count": null,
      "outputs": []
    }
  ]
}